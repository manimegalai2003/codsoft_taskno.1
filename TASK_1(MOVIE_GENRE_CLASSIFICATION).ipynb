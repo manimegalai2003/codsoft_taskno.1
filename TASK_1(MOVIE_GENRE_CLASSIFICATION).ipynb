{
  "nbformat": 4,
  "nbformat_minor": 0,
  "metadata": {
    "colab": {
      "provenance": []
    },
    "kernelspec": {
      "name": "python3",
      "display_name": "Python 3"
    },
    "language_info": {
      "name": "python"
    }
  },
  "cells": [
    {
      "cell_type": "code",
      "source": [
        "import pandas as pd\n",
        "\n",
        "def load_data(train_path, test_path, test_solution_path, description_path):\n",
        "    train_data = pd.read_csv(train_path, delimiter=':::', header=None, names=['ID', 'TITLE', 'GENRE', 'DESCRIPTION'])\n",
        "    print(\"Training Data Loaded:\")\n",
        "    print(train_data.head())\n",
        "\n",
        "    test_data = pd.read_csv(test_path, delimiter=':::', header=None, names=['ID', 'TITLE', 'DESCRIPTION'])\n",
        "    print(\"\\nTesting Data Loaded:\")\n",
        "    print(test_data.head())\n",
        "\n",
        "    test_solutions = pd.read_csv(test_solution_path, delimiter=':::', header=None, names=['ID', 'TITLE', 'GENRE'])\n",
        "    print(\"\\nTest Data Solutions Loaded:\")\n",
        "    print(test_solutions.head())\n",
        "\n",
        "    with open(description_path, 'r') as file:\n",
        "        description = file.read()\n",
        "    print(\"\\nDescription File Loaded:\")\n",
        "    print(description[:500])\n",
        "\n",
        "    return train_data, test_data, test_solutions, description"
      ],
      "metadata": {
        "id": "l_JCrZdXUSQx"
      },
      "execution_count": 1,
      "outputs": []
    },
    {
      "cell_type": "code",
      "source": [
        "# Define file paths\n",
        "train_path = '/content/drive/MyDrive/CODSOFT/train_data.txt'\n",
        "test_path = '/content/drive/MyDrive/CODSOFT/test_data.txt'\n",
        "test_solution_path = '/content/drive/MyDrive/CODSOFT/test_data_solution.txt'\n",
        "description_path = '/content/drive/MyDrive/CODSOFT/description.txt'\n"
      ],
      "metadata": {
        "id": "W2sK9UdIbuSH"
      },
      "execution_count": 2,
      "outputs": []
    },
    {
      "cell_type": "code",
      "source": [
        "# Load the data\n",
        "train_data, test_data, test_solutions, description = load_data(train_path, test_path, test_solution_path, description_path)"
      ],
      "metadata": {
        "colab": {
          "base_uri": "https://localhost:8080/"
        },
        "id": "EzxEGGd2byK-",
        "outputId": "8c7adf33-25ec-44ec-e463-332f9b3a25fb"
      },
      "execution_count": 3,
      "outputs": [
        {
          "output_type": "stream",
          "name": "stderr",
          "text": [
            "<ipython-input-1-5bbbbad1e8a7>:4: ParserWarning: Falling back to the 'python' engine because the 'c' engine does not support regex separators (separators > 1 char and different from '\\s+' are interpreted as regex); you can avoid this warning by specifying engine='python'.\n",
            "  train_data = pd.read_csv(train_path, delimiter=':::', header=None, names=['ID', 'TITLE', 'GENRE', 'DESCRIPTION'])\n"
          ]
        },
        {
          "output_type": "stream",
          "name": "stdout",
          "text": [
            "Training Data Loaded:\n",
            "   ID                               TITLE       GENRE  \\\n",
            "0   1       Oscar et la dame rose (2009)       drama    \n",
            "1   2                       Cupid (1997)    thriller    \n",
            "2   3   Young, Wild and Wonderful (1980)       adult    \n",
            "3   4              The Secret Sin (1915)       drama    \n",
            "4   5             The Unrecovered (2007)       drama    \n",
            "\n",
            "                                         DESCRIPTION  \n",
            "0   Listening in to a conversation between his do...  \n",
            "1   A brother and sister with a past incestuous r...  \n",
            "2   As the bus empties the students for their fie...  \n",
            "3   To help their unemployed father make ends mee...  \n",
            "4   The film's title refers not only to the un-re...  \n"
          ]
        },
        {
          "output_type": "stream",
          "name": "stderr",
          "text": [
            "<ipython-input-1-5bbbbad1e8a7>:8: ParserWarning: Falling back to the 'python' engine because the 'c' engine does not support regex separators (separators > 1 char and different from '\\s+' are interpreted as regex); you can avoid this warning by specifying engine='python'.\n",
            "  test_data = pd.read_csv(test_path, delimiter=':::', header=None, names=['ID', 'TITLE', 'DESCRIPTION'])\n"
          ]
        },
        {
          "output_type": "stream",
          "name": "stdout",
          "text": [
            "\n",
            "Testing Data Loaded:\n",
            "   ID                          TITLE  \\\n",
            "0   1          Edgar's Lunch (1998)    \n",
            "1   2      La guerra de papá (1977)    \n",
            "2   3   Off the Beaten Track (2010)    \n",
            "3   4        Meu Amigo Hindu (2015)    \n",
            "4   5             Er nu zhai (1955)    \n",
            "\n",
            "                                         DESCRIPTION  \n",
            "0   L.R. Brane loves his life - his car, his apar...  \n",
            "1   Spain, March 1964: Quico is a very naughty ch...  \n",
            "2   One year in the life of Albin and his family ...  \n",
            "3   His father has died, he hasn't spoken with hi...  \n",
            "4   Before he was known internationally as a mart...  \n"
          ]
        },
        {
          "output_type": "stream",
          "name": "stderr",
          "text": [
            "<ipython-input-1-5bbbbad1e8a7>:12: ParserWarning: Falling back to the 'python' engine because the 'c' engine does not support regex separators (separators > 1 char and different from '\\s+' are interpreted as regex); you can avoid this warning by specifying engine='python'.\n",
            "  test_solutions = pd.read_csv(test_solution_path, delimiter=':::', header=None, names=['ID', 'TITLE', 'GENRE'])\n"
          ]
        },
        {
          "output_type": "stream",
          "name": "stdout",
          "text": [
            "\n",
            "Test Data Solutions Loaded:\n",
            "                              ID          TITLE  \\\n",
            "1          Edgar's Lunch (1998)       thriller    \n",
            "2      La guerra de papá (1977)         comedy    \n",
            "3   Off the Beaten Track (2010)    documentary    \n",
            "4        Meu Amigo Hindu (2015)          drama    \n",
            "5             Er nu zhai (1955)          drama    \n",
            "\n",
            "                                               GENRE  \n",
            "1   L.R. Brane loves his life - his car, his apar...  \n",
            "2   Spain, March 1964: Quico is a very naughty ch...  \n",
            "3   One year in the life of Albin and his family ...  \n",
            "4   His father has died, he hasn't spoken with hi...  \n",
            "5   Before he was known internationally as a mart...  \n",
            "\n",
            "Description File Loaded:\n",
            "Train data:\n",
            "ID ::: TITLE ::: GENRE ::: DESCRIPTION\n",
            "ID ::: TITLE ::: GENRE ::: DESCRIPTION\n",
            "ID ::: TITLE ::: GENRE ::: DESCRIPTION\n",
            "ID ::: TITLE ::: GENRE ::: DESCRIPTION\n",
            "\n",
            "Test data:\n",
            "ID ::: TITLE ::: DESCRIPTION\n",
            "ID ::: TITLE ::: DESCRIPTION\n",
            "ID ::: TITLE ::: DESCRIPTION\n",
            "ID ::: TITLE ::: DESCRIPTION\n",
            "\n",
            "Source:\n",
            "ftp://ftp.fu-berlin.de/pub/misc/movies/database/\n"
          ]
        }
      ]
    },
    {
      "cell_type": "code",
      "source": [
        "from sklearn.feature_extraction.text import TfidfVectorizer\n",
        "\n",
        "def preprocess_and_extract_features(train_data, test_data):\n",
        "    vectorizer = TfidfVectorizer(stop_words='english', max_features=5000)\n",
        "\n",
        "    X_train = vectorizer.fit_transform(train_data['DESCRIPTION'])\n",
        "    X_test = vectorizer.transform(test_data['DESCRIPTION'])\n",
        "\n",
        "    return X_train, X_test, vectorizer"
      ],
      "metadata": {
        "id": "HTbUyWMib1hh"
      },
      "execution_count": 4,
      "outputs": []
    },
    {
      "cell_type": "code",
      "source": [
        "# Preprocess and extract features\n",
        "X_train, X_test, vectorizer = preprocess_and_extract_features(train_data, test_data)"
      ],
      "metadata": {
        "id": "KFAo0YAFb4jY"
      },
      "execution_count": 5,
      "outputs": []
    },
    {
      "cell_type": "code",
      "source": [
        "from sklearn.naive_bayes import MultinomialNB\n",
        "\n",
        "def train_model(X_train, y_train):\n",
        "    classifier = MultinomialNB()\n",
        "    classifier.fit(X_train, y_train)\n",
        "    return classifier"
      ],
      "metadata": {
        "id": "iIr2f6S4b7iO"
      },
      "execution_count": 6,
      "outputs": []
    },
    {
      "cell_type": "code",
      "source": [
        "# Encode the target variable\n",
        "y_train = train_data['GENRE']  # Assuming genre is in the 'GENRE' column"
      ],
      "metadata": {
        "id": "TRzfJjK9b_3s"
      },
      "execution_count": 7,
      "outputs": []
    },
    {
      "cell_type": "code",
      "source": [
        "# Train the model\n",
        "classifier = train_model(X_train, y_train)\n",
        "print(\"Model Trained Successfully.\")"
      ],
      "metadata": {
        "colab": {
          "base_uri": "https://localhost:8080/"
        },
        "id": "RZJy17fNcCSn",
        "outputId": "aaab46f1-e157-42ec-c2f4-1bdb1be26165"
      },
      "execution_count": 8,
      "outputs": [
        {
          "output_type": "stream",
          "name": "stdout",
          "text": [
            "Model Trained Successfully.\n"
          ]
        }
      ]
    },
    {
      "cell_type": "code",
      "source": [
        "def predict_genres(classifier, X_test):\n",
        "    y_pred = classifier.predict(X_test)\n",
        "    return y_pred"
      ],
      "metadata": {
        "id": "o2i3UqyjcFPM"
      },
      "execution_count": 9,
      "outputs": []
    },
    {
      "cell_type": "code",
      "source": [
        "# Predict genres for the test data\n",
        "y_pred = predict_genres(classifier, X_test)"
      ],
      "metadata": {
        "id": "8wzdlO7jcUtb"
      },
      "execution_count": 10,
      "outputs": []
    },
    {
      "cell_type": "code",
      "source": [
        "# Print the predicted genres\n",
        "print(\"\\nPredicted Genres:\")\n",
        "print(y_pred)"
      ],
      "metadata": {
        "colab": {
          "base_uri": "https://localhost:8080/"
        },
        "id": "79da6L3DcW3D",
        "outputId": "c1162786-4078-43c2-b52c-a34e72da4db6"
      },
      "execution_count": 11,
      "outputs": [
        {
          "output_type": "stream",
          "name": "stdout",
          "text": [
            "\n",
            "Predicted Genres:\n",
            "[' drama ' ' drama ' ' documentary ' ... ' drama ' ' drama '\n",
            " ' documentary ']\n"
          ]
        }
      ]
    }
  ]
}